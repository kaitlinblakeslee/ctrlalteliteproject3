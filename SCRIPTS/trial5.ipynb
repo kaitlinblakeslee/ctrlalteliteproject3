{
 "cells": [
  {
   "cell_type": "code",
   "execution_count": 1,
   "id": "a7c617ac-b375-4396-adca-69d73b5b7825",
   "metadata": {
    "tags": []
   },
   "outputs": [
    {
     "name": "stderr",
     "output_type": "stream",
     "text": [
      "Preprocessing dataset: 100%|██████████| 26684/26684 [11:49<00:00, 37.60it/s]\n",
      "Preprocessing dataset: 100%|██████████| 3000/3000 [02:06<00:00, 23.79it/s]\n"
     ]
    },
    {
     "name": "stdout",
     "output_type": "stream",
     "text": [
      "Training data shape: (26684, 224, 224, 1)\n",
      "Test data shape: (3000, 224, 224, 1)\n"
     ]
    }
   ],
   "source": [
    "import os\n",
    "import numpy as np\n",
    "import cv2\n",
    "from glob import glob\n",
    "from tqdm import tqdm\n",
    "import pydicom\n",
    "\n",
    "# Set the directories for test and training data\n",
    "TEST_DIR = \"/home/fgj4kw/Downloads/stage_2_test_images\"\n",
    "TRAIN_DIR = \"/home/fgj4kw/Downloads/stage_2_train_images\"\n",
    "\n",
    "# Get all the DICOM image paths from the directories\n",
    "s2_test_images = glob(os.path.join(TEST_DIR, \"**\", \"*.dcm\"), recursive=True)\n",
    "s2_train_images = glob(os.path.join(TRAIN_DIR, \"**\", \"*.dcm\"), recursive=True)\n",
    "\n",
    "# Function to preprocess the dataset\n",
    "def preprocess_full_dataset(image_paths, target_size=(224, 224)):\n",
    "    images = []\n",
    "    for path in tqdm(image_paths, desc=\"Preprocessing dataset\"):\n",
    "        try:\n",
    "            ds = pydicom.dcmread(path)  # Read the DICOM file\n",
    "            img = ds.pixel_array  # Get the pixel array (image)\n",
    "            img_resized = cv2.resize(img, target_size)  # Resize the image to 224x224\n",
    "            img_normalized = img_resized.astype(np.float32) / np.max(img_resized)  # Normalize to [0, 1]\n",
    "            images.append(img_normalized)\n",
    "        except Exception as e:\n",
    "            print(f\"Error processing {path}: {e}\")\n",
    "    return np.array(images)\n",
    "\n",
    "# Preprocess the datasets\n",
    "X_train_full = preprocess_full_dataset(s2_train_images)\n",
    "X_test_full = preprocess_full_dataset(s2_test_images)\n",
    "\n",
    "# Add a channel dimension for grayscale images (from (224, 224) to (224, 224, 1))\n",
    "X_train_full = np.expand_dims(X_train_full, axis=-1)\n",
    "X_test_full = np.expand_dims(X_test_full, axis=-1)\n",
    "\n",
    "# Check the shape of the preprocessed data\n",
    "print(f\"Training data shape: {X_train_full.shape}\")\n",
    "print(f\"Test data shape: {X_test_full.shape}\")\n"
   ]
  },
  {
   "cell_type": "code",
   "execution_count": 16,
   "id": "f001623d-c6ef-492f-bce2-72430a8a8e84",
   "metadata": {
    "tags": []
   },
   "outputs": [
    {
     "data": {
      "text/html": [
       "<div>\n",
       "<style scoped>\n",
       "    .dataframe tbody tr th:only-of-type {\n",
       "        vertical-align: middle;\n",
       "    }\n",
       "\n",
       "    .dataframe tbody tr th {\n",
       "        vertical-align: top;\n",
       "    }\n",
       "\n",
       "    .dataframe thead th {\n",
       "        text-align: right;\n",
       "    }\n",
       "</style>\n",
       "<table border=\"1\" class=\"dataframe\">\n",
       "  <thead>\n",
       "    <tr style=\"text-align: right;\">\n",
       "      <th></th>\n",
       "      <th>patientId</th>\n",
       "      <th>class</th>\n",
       "    </tr>\n",
       "  </thead>\n",
       "  <tbody>\n",
       "    <tr>\n",
       "      <th>0</th>\n",
       "      <td>0004cfab-14fd-4e49-80ba-63a80b6bddd6</td>\n",
       "      <td>No Lung Opacity / Not Normal</td>\n",
       "    </tr>\n",
       "    <tr>\n",
       "      <th>1</th>\n",
       "      <td>00313ee0-9eaa-42f4-b0ab-c148ed3241cd</td>\n",
       "      <td>No Lung Opacity / Not Normal</td>\n",
       "    </tr>\n",
       "    <tr>\n",
       "      <th>2</th>\n",
       "      <td>00322d4d-1c29-4943-afc9-b6754be640eb</td>\n",
       "      <td>No Lung Opacity / Not Normal</td>\n",
       "    </tr>\n",
       "    <tr>\n",
       "      <th>3</th>\n",
       "      <td>003d8fa0-6bf1-40ed-b54c-ac657f8495c5</td>\n",
       "      <td>Normal</td>\n",
       "    </tr>\n",
       "    <tr>\n",
       "      <th>4</th>\n",
       "      <td>00436515-870c-4b36-a041-de91049b9ab4</td>\n",
       "      <td>Lung Opacity</td>\n",
       "    </tr>\n",
       "  </tbody>\n",
       "</table>\n",
       "</div>"
      ],
      "text/plain": [
       "                              patientId                         class\n",
       "0  0004cfab-14fd-4e49-80ba-63a80b6bddd6  No Lung Opacity / Not Normal\n",
       "1  00313ee0-9eaa-42f4-b0ab-c148ed3241cd  No Lung Opacity / Not Normal\n",
       "2  00322d4d-1c29-4943-afc9-b6754be640eb  No Lung Opacity / Not Normal\n",
       "3  003d8fa0-6bf1-40ed-b54c-ac657f8495c5                        Normal\n",
       "4  00436515-870c-4b36-a041-de91049b9ab4                  Lung Opacity"
      ]
     },
     "execution_count": 16,
     "metadata": {},
     "output_type": "execute_result"
    }
   ],
   "source": [
    "import pandas as pd\n",
    "\n",
    "# Load the CSV file\n",
    "file_path = ''\n",
    "labels_df = pd.read_csv('Downloads/stage_2_detailed_class_info.csv')\n",
    "\n",
    "# Display the first few rows of the file\n",
    "labels_df.head()\n"
   ]
  },
  {
   "cell_type": "code",
   "execution_count": 17,
   "id": "a5d2aca4-cbce-4bb2-8ab1-520346da36d0",
   "metadata": {
    "tags": []
   },
   "outputs": [
    {
     "name": "stdout",
     "output_type": "stream",
     "text": [
      "Sample labels dictionary: {'0004cfab-14fd-4e49-80ba-63a80b6bddd6': 0, '00313ee0-9eaa-42f4-b0ab-c148ed3241cd': 0, '00322d4d-1c29-4943-afc9-b6754be640eb': 0, '003d8fa0-6bf1-40ed-b54c-ac657f8495c5': 1, '00436515-870c-4b36-a041-de91049b9ab4': 2}\n"
     ]
    }
   ],
   "source": [
    "# Create a dictionary to map patientId to class labels\n",
    "labels_dict = {}\n",
    "label_mapping = {\n",
    "    \"No Lung Opacity / Not Normal\": 0,\n",
    "    \"Normal\": 1,\n",
    "    \"Lung Opacity\": 2\n",
    "}\n",
    "\n",
    "# Populate the dictionary with patientId and corresponding label\n",
    "for _, row in labels_df.iterrows():\n",
    "    labels_dict[row['patientId']] = label_mapping.get(row['class'], -1)  # Use -1 for any unknown class\n",
    "\n",
    "# Check the first few labels\n",
    "print(\"Sample labels dictionary:\", dict(list(labels_dict.items())[:5]))\n"
   ]
  },
  {
   "cell_type": "code",
   "execution_count": 9,
   "id": "edd84f1f-6a40-455b-9546-b48cd1a9075e",
   "metadata": {
    "tags": []
   },
   "outputs": [
    {
     "name": "stdout",
     "output_type": "stream",
     "text": [
      "Imports loaded successfully.\n"
     ]
    }
   ],
   "source": [
    "# Step 1: Imports\n",
    "\n",
    "import numpy as np\n",
    "import cv2\n",
    "import pydicom\n",
    "from tensorflow.keras.utils import Sequence\n",
    "import os\n",
    "from sklearn.utils.class_weight import compute_class_weight  # For class weights\n",
    "from tensorflow.keras import layers, models\n",
    "from tensorflow.keras.callbacks import EarlyStopping, ReduceLROnPlateau  # For early stopping and learning rate scheduler\n",
    "\n",
    "# Check if the imports are working\n",
    "print(\"Imports loaded successfully.\")\n"
   ]
  },
  {
   "cell_type": "code",
   "execution_count": 10,
   "id": "f1e0079e-28b6-46bc-8cf3-17fd446e6a9e",
   "metadata": {
    "tags": []
   },
   "outputs": [
    {
     "name": "stdout",
     "output_type": "stream",
     "text": [
      "DICOMDataGenerator class defined successfully.\n"
     ]
    }
   ],
   "source": [
    "# Step 2: Define DICOMDataGenerator Class (Modified for Preprocessed Data)\n",
    "\n",
    "class DICOMDataGenerator(Sequence):\n",
    "    def __init__(self, image_paths, labels_dict, batch_size=32, target_size=(224, 224), shuffle=True):\n",
    "        self.image_paths = image_paths\n",
    "        self.labels_dict = labels_dict\n",
    "        self.batch_size = batch_size\n",
    "        self.target_size = target_size\n",
    "        self.shuffle = shuffle\n",
    "        self.indexes = np.arange(len(self.image_paths))\n",
    "\n",
    "    def __len__(self):\n",
    "        return int(np.floor(len(self.image_paths) / self.batch_size))\n",
    "\n",
    "    def __getitem__(self, index):\n",
    "        batch_paths = self.image_paths[index * self.batch_size:(index + 1) * self.batch_size]\n",
    "        images, labels = self.__data_generation(batch_paths)\n",
    "        return np.array(images), np.array(labels)\n",
    "\n",
    "    def on_epoch_end(self):\n",
    "        if self.shuffle:\n",
    "            np.random.shuffle(self.indexes)\n",
    "\n",
    "    def __data_generation(self, batch_paths):\n",
    "        images = []\n",
    "        labels = []\n",
    "        for path in batch_paths:\n",
    "            filename = os.path.basename(path).split('.')[0]  # Extract filename without extension\n",
    "            try:\n",
    "                # Get the preprocessed image based on the filename\n",
    "                idx = self.image_paths.index(path)  # Find the index of the current image path\n",
    "                img = X_train_full[idx]  # Get the preprocessed image from X_train_full or X_test_full\n",
    "                \n",
    "                # Normalize (if necessary), although it's already normalized\n",
    "                img_normalized = img.astype(np.float32)\n",
    "\n",
    "                images.append(img_normalized)\n",
    "                label = self.labels_dict.get(filename, -1)  # Get the label from the dictionary\n",
    "                labels.append(label)\n",
    "            except Exception as e:\n",
    "                print(f\"Error processing {path}: {e}\")\n",
    "                continue\n",
    "        return images, labels\n",
    "\n",
    "# Check if the data generator works as expected (without actual data)\n",
    "print(\"DICOMDataGenerator class defined successfully.\")\n"
   ]
  },
  {
   "cell_type": "code",
   "execution_count": 11,
   "id": "ae66c181-9a6b-43c8-ab4c-ae97dbfc50e3",
   "metadata": {
    "tags": []
   },
   "outputs": [
    {
     "name": "stdout",
     "output_type": "stream",
     "text": [
      "Class weight dictionary: {0: 0.75, 1: 1.5}\n"
     ]
    }
   ],
   "source": [
    "# Step 3: Compute Class Weights\n",
    "\n",
    "# Example labels_dict (you would use your actual labels dictionary here)\n",
    "labels_dict = {\n",
    "    'image1': 0,  # Example label for image1\n",
    "    'image2': 1,  # Example label for image2\n",
    "    'image3': 0,  # Example label for image3\n",
    "    # Add your actual labels here...\n",
    "}\n",
    "\n",
    "# Compute class weights\n",
    "class_weights = compute_class_weight(\n",
    "    'balanced',\n",
    "    classes=np.unique(list(labels_dict.values())),\n",
    "    y=list(labels_dict.values())\n",
    ")\n",
    "\n",
    "# Create a dictionary of class weights\n",
    "class_weight_dict = {i: class_weights[i] for i in range(len(class_weights))}\n",
    "\n",
    "# Display the class weights dictionary\n",
    "print(\"Class weight dictionary:\", class_weight_dict)"
   ]
  },
  {
   "cell_type": "code",
   "execution_count": 12,
   "id": "9f3bc2e4-b16b-43ea-ab86-fcd3ac4b4487",
   "metadata": {
    "tags": []
   },
   "outputs": [
    {
     "name": "stderr",
     "output_type": "stream",
     "text": [
      "/home/fgj4kw/.local/lib/python3.11/site-packages/keras/src/layers/convolutional/base_conv.py:107: UserWarning: Do not pass an `input_shape`/`input_dim` argument to a layer. When using Sequential models, prefer using an `Input(shape)` object as the first layer in the model instead.\n",
      "  super().__init__(activity_regularizer=activity_regularizer, **kwargs)\n"
     ]
    },
    {
     "data": {
      "text/html": [
       "<pre style=\"white-space:pre;overflow-x:auto;line-height:normal;font-family:Menlo,'DejaVu Sans Mono',consolas,'Courier New',monospace\"><span style=\"font-weight: bold\">Model: \"sequential_1\"</span>\n",
       "</pre>\n"
      ],
      "text/plain": [
       "\u001b[1mModel: \"sequential_1\"\u001b[0m\n"
      ]
     },
     "metadata": {},
     "output_type": "display_data"
    },
    {
     "data": {
      "text/html": [
       "<pre style=\"white-space:pre;overflow-x:auto;line-height:normal;font-family:Menlo,'DejaVu Sans Mono',consolas,'Courier New',monospace\">┏━━━━━━━━━━━━━━━━━━━━━━━━━━━━━━━━━┳━━━━━━━━━━━━━━━━━━━━━━━━┳━━━━━━━━━━━━━━━┓\n",
       "┃<span style=\"font-weight: bold\"> Layer (type)                    </span>┃<span style=\"font-weight: bold\"> Output Shape           </span>┃<span style=\"font-weight: bold\">       Param # </span>┃\n",
       "┡━━━━━━━━━━━━━━━━━━━━━━━━━━━━━━━━━╇━━━━━━━━━━━━━━━━━━━━━━━━╇━━━━━━━━━━━━━━━┩\n",
       "│ conv2d (<span style=\"color: #0087ff; text-decoration-color: #0087ff\">Conv2D</span>)                 │ (<span style=\"color: #00d7ff; text-decoration-color: #00d7ff\">None</span>, <span style=\"color: #00af00; text-decoration-color: #00af00\">222</span>, <span style=\"color: #00af00; text-decoration-color: #00af00\">222</span>, <span style=\"color: #00af00; text-decoration-color: #00af00\">32</span>)   │           <span style=\"color: #00af00; text-decoration-color: #00af00\">320</span> │\n",
       "├─────────────────────────────────┼────────────────────────┼───────────────┤\n",
       "│ max_pooling2d (<span style=\"color: #0087ff; text-decoration-color: #0087ff\">MaxPooling2D</span>)    │ (<span style=\"color: #00d7ff; text-decoration-color: #00d7ff\">None</span>, <span style=\"color: #00af00; text-decoration-color: #00af00\">111</span>, <span style=\"color: #00af00; text-decoration-color: #00af00\">111</span>, <span style=\"color: #00af00; text-decoration-color: #00af00\">32</span>)   │             <span style=\"color: #00af00; text-decoration-color: #00af00\">0</span> │\n",
       "├─────────────────────────────────┼────────────────────────┼───────────────┤\n",
       "│ conv2d_1 (<span style=\"color: #0087ff; text-decoration-color: #0087ff\">Conv2D</span>)               │ (<span style=\"color: #00d7ff; text-decoration-color: #00d7ff\">None</span>, <span style=\"color: #00af00; text-decoration-color: #00af00\">109</span>, <span style=\"color: #00af00; text-decoration-color: #00af00\">109</span>, <span style=\"color: #00af00; text-decoration-color: #00af00\">64</span>)   │        <span style=\"color: #00af00; text-decoration-color: #00af00\">18,496</span> │\n",
       "├─────────────────────────────────┼────────────────────────┼───────────────┤\n",
       "│ max_pooling2d_1 (<span style=\"color: #0087ff; text-decoration-color: #0087ff\">MaxPooling2D</span>)  │ (<span style=\"color: #00d7ff; text-decoration-color: #00d7ff\">None</span>, <span style=\"color: #00af00; text-decoration-color: #00af00\">54</span>, <span style=\"color: #00af00; text-decoration-color: #00af00\">54</span>, <span style=\"color: #00af00; text-decoration-color: #00af00\">64</span>)     │             <span style=\"color: #00af00; text-decoration-color: #00af00\">0</span> │\n",
       "├─────────────────────────────────┼────────────────────────┼───────────────┤\n",
       "│ flatten (<span style=\"color: #0087ff; text-decoration-color: #0087ff\">Flatten</span>)               │ (<span style=\"color: #00d7ff; text-decoration-color: #00d7ff\">None</span>, <span style=\"color: #00af00; text-decoration-color: #00af00\">186624</span>)         │             <span style=\"color: #00af00; text-decoration-color: #00af00\">0</span> │\n",
       "├─────────────────────────────────┼────────────────────────┼───────────────┤\n",
       "│ dense_1 (<span style=\"color: #0087ff; text-decoration-color: #0087ff\">Dense</span>)                 │ (<span style=\"color: #00d7ff; text-decoration-color: #00d7ff\">None</span>, <span style=\"color: #00af00; text-decoration-color: #00af00\">1</span>)              │       <span style=\"color: #00af00; text-decoration-color: #00af00\">186,625</span> │\n",
       "└─────────────────────────────────┴────────────────────────┴───────────────┘\n",
       "</pre>\n"
      ],
      "text/plain": [
       "┏━━━━━━━━━━━━━━━━━━━━━━━━━━━━━━━━━┳━━━━━━━━━━━━━━━━━━━━━━━━┳━━━━━━━━━━━━━━━┓\n",
       "┃\u001b[1m \u001b[0m\u001b[1mLayer (type)                   \u001b[0m\u001b[1m \u001b[0m┃\u001b[1m \u001b[0m\u001b[1mOutput Shape          \u001b[0m\u001b[1m \u001b[0m┃\u001b[1m \u001b[0m\u001b[1m      Param #\u001b[0m\u001b[1m \u001b[0m┃\n",
       "┡━━━━━━━━━━━━━━━━━━━━━━━━━━━━━━━━━╇━━━━━━━━━━━━━━━━━━━━━━━━╇━━━━━━━━━━━━━━━┩\n",
       "│ conv2d (\u001b[38;5;33mConv2D\u001b[0m)                 │ (\u001b[38;5;45mNone\u001b[0m, \u001b[38;5;34m222\u001b[0m, \u001b[38;5;34m222\u001b[0m, \u001b[38;5;34m32\u001b[0m)   │           \u001b[38;5;34m320\u001b[0m │\n",
       "├─────────────────────────────────┼────────────────────────┼───────────────┤\n",
       "│ max_pooling2d (\u001b[38;5;33mMaxPooling2D\u001b[0m)    │ (\u001b[38;5;45mNone\u001b[0m, \u001b[38;5;34m111\u001b[0m, \u001b[38;5;34m111\u001b[0m, \u001b[38;5;34m32\u001b[0m)   │             \u001b[38;5;34m0\u001b[0m │\n",
       "├─────────────────────────────────┼────────────────────────┼───────────────┤\n",
       "│ conv2d_1 (\u001b[38;5;33mConv2D\u001b[0m)               │ (\u001b[38;5;45mNone\u001b[0m, \u001b[38;5;34m109\u001b[0m, \u001b[38;5;34m109\u001b[0m, \u001b[38;5;34m64\u001b[0m)   │        \u001b[38;5;34m18,496\u001b[0m │\n",
       "├─────────────────────────────────┼────────────────────────┼───────────────┤\n",
       "│ max_pooling2d_1 (\u001b[38;5;33mMaxPooling2D\u001b[0m)  │ (\u001b[38;5;45mNone\u001b[0m, \u001b[38;5;34m54\u001b[0m, \u001b[38;5;34m54\u001b[0m, \u001b[38;5;34m64\u001b[0m)     │             \u001b[38;5;34m0\u001b[0m │\n",
       "├─────────────────────────────────┼────────────────────────┼───────────────┤\n",
       "│ flatten (\u001b[38;5;33mFlatten\u001b[0m)               │ (\u001b[38;5;45mNone\u001b[0m, \u001b[38;5;34m186624\u001b[0m)         │             \u001b[38;5;34m0\u001b[0m │\n",
       "├─────────────────────────────────┼────────────────────────┼───────────────┤\n",
       "│ dense_1 (\u001b[38;5;33mDense\u001b[0m)                 │ (\u001b[38;5;45mNone\u001b[0m, \u001b[38;5;34m1\u001b[0m)              │       \u001b[38;5;34m186,625\u001b[0m │\n",
       "└─────────────────────────────────┴────────────────────────┴───────────────┘\n"
      ]
     },
     "metadata": {},
     "output_type": "display_data"
    },
    {
     "data": {
      "text/html": [
       "<pre style=\"white-space:pre;overflow-x:auto;line-height:normal;font-family:Menlo,'DejaVu Sans Mono',consolas,'Courier New',monospace\"><span style=\"font-weight: bold\"> Total params: </span><span style=\"color: #00af00; text-decoration-color: #00af00\">205,441</span> (802.50 KB)\n",
       "</pre>\n"
      ],
      "text/plain": [
       "\u001b[1m Total params: \u001b[0m\u001b[38;5;34m205,441\u001b[0m (802.50 KB)\n"
      ]
     },
     "metadata": {},
     "output_type": "display_data"
    },
    {
     "data": {
      "text/html": [
       "<pre style=\"white-space:pre;overflow-x:auto;line-height:normal;font-family:Menlo,'DejaVu Sans Mono',consolas,'Courier New',monospace\"><span style=\"font-weight: bold\"> Trainable params: </span><span style=\"color: #00af00; text-decoration-color: #00af00\">205,441</span> (802.50 KB)\n",
       "</pre>\n"
      ],
      "text/plain": [
       "\u001b[1m Trainable params: \u001b[0m\u001b[38;5;34m205,441\u001b[0m (802.50 KB)\n"
      ]
     },
     "metadata": {},
     "output_type": "display_data"
    },
    {
     "data": {
      "text/html": [
       "<pre style=\"white-space:pre;overflow-x:auto;line-height:normal;font-family:Menlo,'DejaVu Sans Mono',consolas,'Courier New',monospace\"><span style=\"font-weight: bold\"> Non-trainable params: </span><span style=\"color: #00af00; text-decoration-color: #00af00\">0</span> (0.00 B)\n",
       "</pre>\n"
      ],
      "text/plain": [
       "\u001b[1m Non-trainable params: \u001b[0m\u001b[38;5;34m0\u001b[0m (0.00 B)\n"
      ]
     },
     "metadata": {},
     "output_type": "display_data"
    }
   ],
   "source": [
    "# Step 4: Image-Level Classification Model\n",
    "\n",
    "def build_classification_model(input_shape=(224, 224, 1)):  # Grayscale input (1 channel)\n",
    "    model = models.Sequential([\n",
    "        layers.Conv2D(32, (3, 3), activation='relu', input_shape=input_shape),\n",
    "        layers.MaxPooling2D((2, 2)),\n",
    "        layers.Conv2D(64, (3, 3), activation='relu'),\n",
    "        layers.MaxPooling2D((2, 2)),\n",
    "        layers.Flatten(),\n",
    "        layers.Dense(1, activation='sigmoid')  # Binary output for classification\n",
    "    ])\n",
    "    \n",
    "    model.compile(optimizer='adam', loss='binary_crossentropy', metrics=['accuracy'])\n",
    "    return model\n",
    "\n",
    "# Build the new classification model\n",
    "segmentation_model = build_classification_model(input_shape=(224, 224, 1))  # Use grayscale images\n",
    "\n",
    "# Check the model summary\n",
    "segmentation_model.summary()"
   ]
  },
  {
   "cell_type": "code",
   "execution_count": 13,
   "id": "f52e32d3-43e9-4128-b7d6-4f7fa356202d",
   "metadata": {
    "tags": []
   },
   "outputs": [
    {
     "name": "stdout",
     "output_type": "stream",
     "text": [
      "Callbacks defined successfully.\n"
     ]
    }
   ],
   "source": [
    "# Step 5: Early Stopping and Learning Rate Scheduler\n",
    "\n",
    "early_stopping = EarlyStopping(monitor='val_loss', patience=5, restore_best_weights=True)\n",
    "lr_scheduler = ReduceLROnPlateau(monitor='val_loss', factor=0.5, patience=5, verbose=1)\n",
    "\n",
    "# Check if the callbacks are defined\n",
    "print(\"Callbacks defined successfully.\")\n"
   ]
  },
  {
   "cell_type": "code",
   "execution_count": 22,
   "id": "bec7a262-cfd3-4549-9c7a-3495ea93b322",
   "metadata": {
    "tags": []
   },
   "outputs": [
    {
     "ename": "NameError",
     "evalue": "name 'X_train_full' is not defined",
     "output_type": "error",
     "traceback": [
      "\u001b[0;31m---------------------------------------------------------------------------\u001b[0m",
      "\u001b[0;31mNameError\u001b[0m                                 Traceback (most recent call last)",
      "Cell \u001b[0;32mIn[22], line 39\u001b[0m\n\u001b[1;32m     35\u001b[0m         \u001b[38;5;28;01mreturn\u001b[39;00m labels\n\u001b[1;32m     37\u001b[0m \u001b[38;5;66;03m# Initialize the train and test generators using the preprocessed images (X_train_full and X_test_full)\u001b[39;00m\n\u001b[1;32m     38\u001b[0m train_generator \u001b[38;5;241m=\u001b[39m DICOMDataGenerator(\n\u001b[0;32m---> 39\u001b[0m     \u001b[43mX_train_full\u001b[49m, labels_dict, batch_size\u001b[38;5;241m=\u001b[39m\u001b[38;5;241m32\u001b[39m, target_size\u001b[38;5;241m=\u001b[39m(\u001b[38;5;241m224\u001b[39m, \u001b[38;5;241m224\u001b[39m), shuffle\u001b[38;5;241m=\u001b[39m\u001b[38;5;28;01mTrue\u001b[39;00m\n\u001b[1;32m     40\u001b[0m )\n\u001b[1;32m     42\u001b[0m test_generator \u001b[38;5;241m=\u001b[39m DICOMDataGenerator(\n\u001b[1;32m     43\u001b[0m     X_test_full, labels_dict, batch_size\u001b[38;5;241m=\u001b[39m\u001b[38;5;241m32\u001b[39m, target_size\u001b[38;5;241m=\u001b[39m(\u001b[38;5;241m224\u001b[39m, \u001b[38;5;241m224\u001b[39m), shuffle\u001b[38;5;241m=\u001b[39m\u001b[38;5;28;01mFalse\u001b[39;00m\n\u001b[1;32m     44\u001b[0m )\n\u001b[1;32m     46\u001b[0m \u001b[38;5;66;03m# Check if the generators are initialized correctly\u001b[39;00m\n",
      "\u001b[0;31mNameError\u001b[0m: name 'X_train_full' is not defined"
     ]
    }
   ],
   "source": [
    "# Step 6: Initialize Train and Test Generators (Using X_train_full and X_test_full)\n",
    "\n",
    "# Initialize the DICOMDataGenerator class for both training and testing\n",
    "class DICOMDataGenerator(Sequence):\n",
    "    def __init__(self, images, labels_dict, batch_size=32, target_size=(224, 224), shuffle=True):\n",
    "        self.images = images  # Pass in the actual preprocessed images (X_train_full or X_test_full)\n",
    "        self.labels_dict = labels_dict\n",
    "        self.batch_size = batch_size\n",
    "        self.target_size = target_size\n",
    "        self.shuffle = shuffle\n",
    "        self.indexes = np.arange(len(self.images))  # This now refers to the images array\n",
    "\n",
    "    def __len__(self):\n",
    "        return int(np.floor(len(self.images) / self.batch_size))  # Return the number of batches\n",
    "\n",
    "    def __getitem__(self, index):\n",
    "        # Get the batch of images and their corresponding labels\n",
    "        batch_images = self.images[index * self.batch_size:(index + 1) * self.batch_size]\n",
    "        batch_labels = self.__get_labels(batch_images)  # Fetch labels based on images\n",
    "        return np.array(batch_images), np.array(batch_labels)\n",
    "\n",
    "    def on_epoch_end(self):\n",
    "        # Shuffle the dataset after every epoch if shuffle is enabled\n",
    "        if self.shuffle:\n",
    "            np.random.shuffle(self.indexes)\n",
    "\n",
    "    def __get_labels(self, batch_images):\n",
    "        # Generate the corresponding labels for the batch of images\n",
    "        labels = []\n",
    "        for img in batch_images:\n",
    "            # Assuming filenames match the key in labels_dict\n",
    "            filename = os.path.basename(img)  # This should match the patientId in your labels_dict\n",
    "            label = self.labels_dict.get(filename, -1)  # Get label from the dictionary, defaulting to -1\n",
    "            labels.append(label)\n",
    "        return labels\n",
    "\n",
    "# Initialize the train and test generators using the preprocessed images (X_train_full and X_test_full)\n",
    "train_generator = DICOMDataGenerator(\n",
    "    X_train_full, labels_dict, batch_size=32, target_size=(224, 224), shuffle=True\n",
    ")\n",
    "\n",
    "test_generator = DICOMDataGenerator(\n",
    "    X_test_full, labels_dict, batch_size=32, target_size=(224, 224), shuffle=False\n",
    ")\n",
    "\n",
    "# Check if the generators are initialized correctly\n",
    "print(\"Train and Test Generators have been initialized successfully.\")\n"
   ]
  },
  {
   "cell_type": "code",
   "execution_count": null,
   "id": "1cb9cc61-237c-44be-b6c4-0c49886e7b5a",
   "metadata": {},
   "outputs": [],
   "source": []
  }
 ],
 "metadata": {
  "kernelspec": {
   "display_name": "Python 3 (ipykernel)",
   "language": "python",
   "name": "python3"
  },
  "language_info": {
   "codemirror_mode": {
    "name": "ipython",
    "version": 3
   },
   "file_extension": ".py",
   "mimetype": "text/x-python",
   "name": "python",
   "nbconvert_exporter": "python",
   "pygments_lexer": "ipython3",
   "version": "3.11.4"
  }
 },
 "nbformat": 4,
 "nbformat_minor": 5
}
